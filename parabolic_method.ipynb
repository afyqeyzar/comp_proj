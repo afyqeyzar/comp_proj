{
 "cells": [
  {
   "cell_type": "code",
   "execution_count": null,
   "metadata": {},
   "outputs": [],
   "source": [
    "def get_x3(x0, x1, x2, y0, y1, y2):\n",
    "  numerator = (((x2 ** 2) - (x1 ** 2)) * y0) + (((x0 ** 2) - (x2 ** 2)) * y1) + (((x1 ** 2) - x0 ** 2) * y2)\n",
    "  denominator = ((x2 - x1) * y0) + ((x0 - x2) * y1) + ((x1 - x0) * y2)\n",
    "  x3 = 0.5 * numerator / denominator\n",
    "  return x3\n"
   ]
  }
 ],
 "metadata": {
  "kernelspec": {
   "display_name": "Python 3.8.8 ('base')",
   "language": "python",
   "name": "python3"
  },
  "language_info": {
   "name": "python",
   "version": "3.8.8"
  },
  "orig_nbformat": 4,
  "vscode": {
   "interpreter": {
    "hash": "10d3c1f9185a641f6aa55506facf346f460eaf63353321eedc03b497a0e50134"
   }
  }
 },
 "nbformat": 4,
 "nbformat_minor": 2
}
