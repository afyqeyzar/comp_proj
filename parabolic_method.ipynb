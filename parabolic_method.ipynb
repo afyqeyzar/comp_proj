{
 "cells": [
  {
   "cell_type": "code",
   "execution_count": null,
   "metadata": {},
   "outputs": [],
   "source": [
    "def parabolic_minimiser(x0, x1, x2, y0, y1, y2):\n",
    "  numerator = (((x2 ** 2) - (x1 ** 2)) * y0) + (((x0 ** 2) - (x2 ** 2)) * y1) + (((x1 ** 2) - x0 ** 2) * y2)\n",
    "  denominator = ((x2 - x1) * y0) + ((x0 - x2) * y1) + ((x1 - x0) * y2)\n",
    "  x3 = 0.5 * numerator / denominator\n",
    "  return x3\n"
   ]
  }
 ],
 "metadata": {
  "language_info": {
   "name": "python"
  },
  "orig_nbformat": 4
 },
 "nbformat": 4,
 "nbformat_minor": 2
}
