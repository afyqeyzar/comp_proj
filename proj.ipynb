{
 "cells": [
  {
   "cell_type": "code",
   "execution_count": 1,
   "metadata": {},
   "outputs": [],
   "source": [
    "import numpy as np\n",
    "import matplotlib.pyplot as plt"
   ]
  },
  {
   "cell_type": "markdown",
   "metadata": {},
   "source": [
    "## 3.1 The Data"
   ]
  },
  {
   "cell_type": "code",
   "execution_count": 2,
   "metadata": {},
   "outputs": [],
   "source": [
    "data, flux = np.loadtxt(\"comp_proj_data.csv\", skiprows = 1, delimiter = ',', unpack = True)\n"
   ]
  },
  {
   "cell_type": "code",
   "execution_count": 25,
   "metadata": {},
   "outputs": [
    {
     "name": "stdout",
     "output_type": "stream",
     "text": [
      "[0.025 0.075 0.125 0.175 0.225 0.275 0.325 0.375 0.425 0.475 0.525 0.575\n",
      " 0.625 0.675 0.725 0.775 0.825 0.875 0.925 0.975 1.025 1.075 1.125 1.175\n",
      " 1.225 1.275 1.325 1.375 1.425 1.475 1.525 1.575 1.625 1.675 1.725 1.775\n",
      " 1.825 1.875 1.925 1.975 2.025 2.075 2.125 2.175 2.225 2.275 2.325 2.375\n",
      " 2.425 2.475 2.525 2.575 2.625 2.675 2.725 2.775 2.825 2.875 2.925 2.975\n",
      " 3.025 3.075 3.125 3.175 3.225 3.275 3.325 3.375 3.425 3.475 3.525 3.575\n",
      " 3.625 3.675 3.725 3.775 3.825 3.875 3.925 3.975 4.025 4.075 4.125 4.175\n",
      " 4.225 4.275 4.325 4.375 4.425 4.475 4.525 4.575 4.625 4.675 4.725 4.775\n",
      " 4.825 4.875 4.925 4.975 5.025 5.075 5.125 5.175 5.225 5.275 5.325 5.375\n",
      " 5.425 5.475 5.525 5.575 5.625 5.675 5.725 5.775 5.825 5.875 5.925 5.975\n",
      " 6.025 6.075 6.125 6.175 6.225 6.275 6.325 6.375 6.425 6.475 6.525 6.575\n",
      " 6.625 6.675 6.725 6.775 6.825 6.875 6.925 6.975 7.025 7.075 7.125 7.175\n",
      " 7.225 7.275 7.325 7.375 7.425 7.475 7.525 7.575 7.625 7.675 7.725 7.775\n",
      " 7.825 7.875 7.925 7.975 8.025 8.075 8.125 8.175 8.225 8.275 8.325 8.375\n",
      " 8.425 8.475 8.525 8.575 8.625 8.675 8.725 8.775 8.825 8.875 8.925 8.975\n",
      " 9.025 9.075 9.125 9.175 9.225 9.275 9.325 9.375 9.425 9.475 9.525 9.575\n",
      " 9.625 9.675 9.725 9.775 9.825 9.875 9.925 9.975]\n",
      "200\n"
     ]
    }
   ],
   "source": [
    "energy = np.arange(0, 10, 0.05)\n",
    "energy_midpoints = np.arange(0.025,10,0.05)\n",
    "print(energy_midpoints)\n",
    "print(len(energy_midpoints))"
   ]
  },
  {
   "cell_type": "code",
   "execution_count": 34,
   "metadata": {},
   "outputs": [],
   "source": [
    "#%matplotlib tk \n",
    "\n",
    "plt.bar(energy_midpoints, data, 0.05)\n",
    "plt.ylabel('Number of Events')\n",
    "plt.xlabel('Energy / GeV')\n",
    "plt.show()\n"
   ]
  },
  {
   "cell_type": "markdown",
   "metadata": {},
   "source": [
    "## 3.2 Fit Function"
   ]
  },
  {
   "cell_type": "code",
   "execution_count": 26,
   "metadata": {},
   "outputs": [],
   "source": [
    "def oscillation_probability(energy, theta_23 = np.pi/4, delta_m2_23 = 2.3e-3, L = 295):\n",
    "  left = (np.sin(2 * theta_23)) ** 2\n",
    "  right = (np.sin((1.267 * delta_m2_23 * L) / energy)) ** 2\n",
    "  return 1 - (left * right)\n"
   ]
  },
  {
   "cell_type": "code",
   "execution_count": 29,
   "metadata": {},
   "outputs": [
    {
     "data": {
      "text/plain": [
       "[<matplotlib.lines.Line2D at 0x7f9b6a740070>]"
      ]
     },
     "execution_count": 29,
     "metadata": {},
     "output_type": "execute_result"
    },
    {
     "data": {
      "image/png": "[encoded data removed]",
      "text/plain": [
       "<Figure size 432x288 with 1 Axes>"
      ]
     },
     "metadata": {
      "needs_background": "light"
     },
     "output_type": "display_data"
    }
   ],
   "source": [
    "plt.plot(energy_midpoints,oscillation_probability(energy_midpoints),'.')"
   ]
  },
  {
   "cell_type": "code",
   "execution_count": null,
   "metadata": {},
   "outputs": [],
   "source": []
  }
 ],
 "metadata": {
  "kernelspec": {
   "display_name": "Python 3.8.8 ('base')",
   "language": "python",
   "name": "python3"
  },
  "language_info": {
   "codemirror_mode": {
    "name": "ipython",
    "version": 3
   },
   "file_extension": ".py",
   "mimetype": "text/x-python",
   "name": "python",
   "nbconvert_exporter": "python",
   "pygments_lexer": "ipython3",
   "version": "3.8.8"
  },
  "orig_nbformat": 4,
  "vscode": {
   "interpreter": {
    "hash": "10d3c1f9185a641f6aa55506facf346f460eaf63353321eedc03b497a0e50134"
   }
  }
 },
 "nbformat": 4,
 "nbformat_minor": 2
}
